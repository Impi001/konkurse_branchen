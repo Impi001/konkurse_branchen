{
 "cells": [
  {
   "cell_type": "code",
   "execution_count": 1,
   "metadata": {},
   "outputs": [],
   "source": [
    "import pandas as pd\n",
    "import matplotlib.pyplot as plt\n",
    "import datetime as dt"
   ]
  },
  {
   "cell_type": "code",
   "execution_count": 2,
   "metadata": {},
   "outputs": [],
   "source": [
    "## Download the most recent dataset from StatistikZH's github repo\n",
    "dataset = pd.read_csv(\n",
    "    \"https://raw.githubusercontent.com/statistikZH/covid19monitoring_economy_SHAB/master/Economy_SHAB_branchen.csv\",\n",
    "    parse_dates = [\"date\"]\n",
    ")"
   ]
  },
  {
   "cell_type": "code",
   "execution_count": 3,
   "metadata": {},
   "outputs": [
    {
     "data": {
      "text/html": [
       "<div>\n",
       "<style scoped>\n",
       "    .dataframe tbody tr th:only-of-type {\n",
       "        vertical-align: middle;\n",
       "    }\n",
       "\n",
       "    .dataframe tbody tr th {\n",
       "        vertical-align: top;\n",
       "    }\n",
       "\n",
       "    .dataframe thead th {\n",
       "        text-align: right;\n",
       "    }\n",
       "</style>\n",
       "<table border=\"1\" class=\"dataframe\">\n",
       "  <thead>\n",
       "    <tr style=\"text-align: right;\">\n",
       "      <th></th>\n",
       "      <th>date</th>\n",
       "      <th>value</th>\n",
       "      <th>topic</th>\n",
       "      <th>variable_short</th>\n",
       "      <th>variable_long</th>\n",
       "      <th>location</th>\n",
       "      <th>unit</th>\n",
       "      <th>source</th>\n",
       "      <th>update</th>\n",
       "      <th>public</th>\n",
       "      <th>description</th>\n",
       "    </tr>\n",
       "  </thead>\n",
       "  <tbody>\n",
       "    <tr>\n",
       "      <th>0</th>\n",
       "      <td>2017-01-03</td>\n",
       "      <td>1</td>\n",
       "      <td>Wirtschaft</td>\n",
       "      <td>konk_eroeff_noga_G</td>\n",
       "      <td>Anzahl Eröffnungen erstmaliger Konkursverfahre...</td>\n",
       "      <td>LU</td>\n",
       "      <td>Anzahl</td>\n",
       "      <td>SHAB via Moneyhouse API</td>\n",
       "      <td>wöchentlich</td>\n",
       "      <td>ja</td>\n",
       "      <td>https://github.com/statistikZH/covid19monitori...</td>\n",
       "    </tr>\n",
       "    <tr>\n",
       "      <th>1</th>\n",
       "      <td>2017-01-03</td>\n",
       "      <td>1</td>\n",
       "      <td>Wirtschaft</td>\n",
       "      <td>konk_eroeff_noga_C</td>\n",
       "      <td>Anzahl Eröffnungen erstmaliger Konkursverfahre...</td>\n",
       "      <td>SG</td>\n",
       "      <td>Anzahl</td>\n",
       "      <td>SHAB via Moneyhouse API</td>\n",
       "      <td>wöchentlich</td>\n",
       "      <td>ja</td>\n",
       "      <td>https://github.com/statistikZH/covid19monitori...</td>\n",
       "    </tr>\n",
       "    <tr>\n",
       "      <th>2</th>\n",
       "      <td>2017-01-06</td>\n",
       "      <td>1</td>\n",
       "      <td>Wirtschaft</td>\n",
       "      <td>konk_eroeff_noga_M</td>\n",
       "      <td>Anzahl Eröffnungen erstmaliger Konkursverfahre...</td>\n",
       "      <td>OW</td>\n",
       "      <td>Anzahl</td>\n",
       "      <td>SHAB via Moneyhouse API</td>\n",
       "      <td>wöchentlich</td>\n",
       "      <td>ja</td>\n",
       "      <td>https://github.com/statistikZH/covid19monitori...</td>\n",
       "    </tr>\n",
       "    <tr>\n",
       "      <th>3</th>\n",
       "      <td>2017-01-09</td>\n",
       "      <td>1</td>\n",
       "      <td>Wirtschaft</td>\n",
       "      <td>konk_eroeff_noga_K</td>\n",
       "      <td>Anzahl Eröffnungen erstmaliger Konkursverfahre...</td>\n",
       "      <td>GE</td>\n",
       "      <td>Anzahl</td>\n",
       "      <td>SHAB via Moneyhouse API</td>\n",
       "      <td>wöchentlich</td>\n",
       "      <td>ja</td>\n",
       "      <td>https://github.com/statistikZH/covid19monitori...</td>\n",
       "    </tr>\n",
       "    <tr>\n",
       "      <th>4</th>\n",
       "      <td>2017-01-09</td>\n",
       "      <td>1</td>\n",
       "      <td>Wirtschaft</td>\n",
       "      <td>konk_eroeff_noga_N</td>\n",
       "      <td>Anzahl Eröffnungen erstmaliger Konkursverfahre...</td>\n",
       "      <td>GE</td>\n",
       "      <td>Anzahl</td>\n",
       "      <td>SHAB via Moneyhouse API</td>\n",
       "      <td>wöchentlich</td>\n",
       "      <td>ja</td>\n",
       "      <td>https://github.com/statistikZH/covid19monitori...</td>\n",
       "    </tr>\n",
       "  </tbody>\n",
       "</table>\n",
       "</div>"
      ],
      "text/plain": [
       "        date  value       topic      variable_short  \\\n",
       "0 2017-01-03      1  Wirtschaft  konk_eroeff_noga_G   \n",
       "1 2017-01-03      1  Wirtschaft  konk_eroeff_noga_C   \n",
       "2 2017-01-06      1  Wirtschaft  konk_eroeff_noga_M   \n",
       "3 2017-01-09      1  Wirtschaft  konk_eroeff_noga_K   \n",
       "4 2017-01-09      1  Wirtschaft  konk_eroeff_noga_N   \n",
       "\n",
       "                                       variable_long location    unit  \\\n",
       "0  Anzahl Eröffnungen erstmaliger Konkursverfahre...       LU  Anzahl   \n",
       "1  Anzahl Eröffnungen erstmaliger Konkursverfahre...       SG  Anzahl   \n",
       "2  Anzahl Eröffnungen erstmaliger Konkursverfahre...       OW  Anzahl   \n",
       "3  Anzahl Eröffnungen erstmaliger Konkursverfahre...       GE  Anzahl   \n",
       "4  Anzahl Eröffnungen erstmaliger Konkursverfahre...       GE  Anzahl   \n",
       "\n",
       "                    source       update public  \\\n",
       "0  SHAB via Moneyhouse API  wöchentlich     ja   \n",
       "1  SHAB via Moneyhouse API  wöchentlich     ja   \n",
       "2  SHAB via Moneyhouse API  wöchentlich     ja   \n",
       "3  SHAB via Moneyhouse API  wöchentlich     ja   \n",
       "4  SHAB via Moneyhouse API  wöchentlich     ja   \n",
       "\n",
       "                                         description  \n",
       "0  https://github.com/statistikZH/covid19monitori...  \n",
       "1  https://github.com/statistikZH/covid19monitori...  \n",
       "2  https://github.com/statistikZH/covid19monitori...  \n",
       "3  https://github.com/statistikZH/covid19monitori...  \n",
       "4  https://github.com/statistikZH/covid19monitori...  "
      ]
     },
     "execution_count": 3,
     "metadata": {},
     "output_type": "execute_result"
    }
   ],
   "source": [
    "## Let's look at the data\n",
    "dataset.head()"
   ]
  },
  {
   "cell_type": "code",
   "execution_count": 4,
   "metadata": {},
   "outputs": [
    {
     "name": "stdout",
     "output_type": "stream",
     "text": [
      "['Wirtschaft']\n",
      "['Anzahl']\n",
      "['SHAB via Moneyhouse API']\n",
      "['wöchentlich']\n",
      "['ja']\n",
      "['https://github.com/statistikZH/covid19monitoring_economy_SHAB']\n"
     ]
    }
   ],
   "source": [
    "## Inspect data we probably don't need\n",
    "print(dataset[\"topic\"].unique())\n",
    "print(dataset[\"unit\"].unique())\n",
    "print(dataset[\"source\"].unique())\n",
    "print(dataset[\"update\"].unique())\n",
    "print(dataset[\"public\"].unique())\n",
    "print(dataset[\"description\"].unique())"
   ]
  },
  {
   "cell_type": "code",
   "execution_count": 5,
   "metadata": {},
   "outputs": [],
   "source": [
    "## Copy for further manipulation\n",
    "dataset2 = dataset.copy()"
   ]
  },
  {
   "cell_type": "code",
   "execution_count": 6,
   "metadata": {},
   "outputs": [],
   "source": [
    "## Drop columns we don't need\n",
    "dataset2.drop(labels = \n",
    "              [\"value\", \"topic\", \"variable_long\", \"unit\", \"source\", \"update\", \"public\", \"description\"], \n",
    "              axis = \"columns\",\n",
    "              inplace = True)"
   ]
  },
  {
   "cell_type": "code",
   "execution_count": 7,
   "metadata": {},
   "outputs": [
    {
     "data": {
      "text/html": [
       "<div>\n",
       "<style scoped>\n",
       "    .dataframe tbody tr th:only-of-type {\n",
       "        vertical-align: middle;\n",
       "    }\n",
       "\n",
       "    .dataframe tbody tr th {\n",
       "        vertical-align: top;\n",
       "    }\n",
       "\n",
       "    .dataframe thead th {\n",
       "        text-align: right;\n",
       "    }\n",
       "</style>\n",
       "<table border=\"1\" class=\"dataframe\">\n",
       "  <thead>\n",
       "    <tr style=\"text-align: right;\">\n",
       "      <th></th>\n",
       "      <th>date</th>\n",
       "      <th>variable_short</th>\n",
       "      <th>location</th>\n",
       "    </tr>\n",
       "  </thead>\n",
       "  <tbody>\n",
       "    <tr>\n",
       "      <th>0</th>\n",
       "      <td>2017-01-03</td>\n",
       "      <td>konk_eroeff_noga_G</td>\n",
       "      <td>LU</td>\n",
       "    </tr>\n",
       "    <tr>\n",
       "      <th>1</th>\n",
       "      <td>2017-01-03</td>\n",
       "      <td>konk_eroeff_noga_C</td>\n",
       "      <td>SG</td>\n",
       "    </tr>\n",
       "    <tr>\n",
       "      <th>2</th>\n",
       "      <td>2017-01-06</td>\n",
       "      <td>konk_eroeff_noga_M</td>\n",
       "      <td>OW</td>\n",
       "    </tr>\n",
       "    <tr>\n",
       "      <th>3</th>\n",
       "      <td>2017-01-09</td>\n",
       "      <td>konk_eroeff_noga_K</td>\n",
       "      <td>GE</td>\n",
       "    </tr>\n",
       "    <tr>\n",
       "      <th>4</th>\n",
       "      <td>2017-01-09</td>\n",
       "      <td>konk_eroeff_noga_N</td>\n",
       "      <td>GE</td>\n",
       "    </tr>\n",
       "  </tbody>\n",
       "</table>\n",
       "</div>"
      ],
      "text/plain": [
       "        date      variable_short location\n",
       "0 2017-01-03  konk_eroeff_noga_G       LU\n",
       "1 2017-01-03  konk_eroeff_noga_C       SG\n",
       "2 2017-01-06  konk_eroeff_noga_M       OW\n",
       "3 2017-01-09  konk_eroeff_noga_K       GE\n",
       "4 2017-01-09  konk_eroeff_noga_N       GE"
      ]
     },
     "execution_count": 7,
     "metadata": {},
     "output_type": "execute_result"
    }
   ],
   "source": [
    "## Let's look at the data again\n",
    "dataset2.head()"
   ]
  },
  {
   "cell_type": "code",
   "execution_count": 8,
   "metadata": {},
   "outputs": [],
   "source": [
    "## Create Mapper that maps NOGA codes to verbose description\n",
    "noga_codes_mapper = {\n",
    "    'konk_eroeff_noga_A' : \"Land- und Forstwirtschaft, Fischerei\",\n",
    "    'konk_eroeff_noga_B' : \"Bergbau und Gewinnung von Steinen und Erden\",\n",
    "    'konk_eroeff_noga_C' : \"Verarbeitendes Gewerbe/Herstellung von Waren\",\n",
    "    'konk_eroeff_noga_D' : \"Energievesorgung\",\n",
    "    'konk_eroeff_noga_E' : \"Wasserversorgung; Abwasser- und Abfallentsorgung und Beseitigung von Umweltverschmutzungen\",\n",
    "    'konk_eroeff_noga_F' : \"Baugewerbe/Bau\",\n",
    "    'konk_eroeff_noga_G' : \"Handel; Instandhaltung und Reparatur von Motorfahrzeugen\",\n",
    "    'konk_eroeff_noga_H' : \"Verkehr und Lagerei\",\n",
    "    'konk_eroeff_noga_I' : \"Gastgewerbe/Beherbergung und Gastronomie\",\n",
    "    'konk_eroeff_noga_J' : \"Information und Kommunikation\",\n",
    "    'konk_eroeff_noga_K' : \"Erbringung von Finanz- und Versicherungsdienstleistungen\",\n",
    "    'konk_eroeff_noga_L' : \"Grundstücks- und Wohnungswesen\",\n",
    "    'konk_eroeff_noga_M' : \"Erbringung von freiberuflichen, wissenchaftlichen und technischen Dienstleistungen\",\n",
    "    'konk_eroeff_noga_N' : \"Erbringung von sonstigen wirtschaftlichen Dienstleistungen\",\n",
    "    'konk_eroeff_noga_O' : \"Öffentliche Verwaltung, Verteidigung; Sozialvesicherung\",\n",
    "    'konk_eroeff_noga_P' : \"Erziehung und Unterricht\",\n",
    "    'konk_eroeff_noga_Q' : \"Gesundheits- und Sozialwesen\",\n",
    "    'konk_eroeff_noga_R' : \"Kunst, Unterhaltung und Erholung\",\n",
    "    'konk_eroeff_noga_S' : \"Erbringung von sonstigen Dienstleistungen\",\n",
    "    'konk_eroeff_noga_T' : \"Private Haushalte\"\n",
    "}    "
   ]
  },
  {
   "cell_type": "code",
   "execution_count": 9,
   "metadata": {},
   "outputs": [],
   "source": [
    "## Copy for further manipulation\n",
    "dataset3 = dataset2.copy()"
   ]
  },
  {
   "cell_type": "code",
   "execution_count": 10,
   "metadata": {},
   "outputs": [],
   "source": [
    "## Map NOGA coddes\n",
    "dataset3[\"variable_short\"] = dataset3[\"variable_short\"].map(noga_codes_mapper)"
   ]
  },
  {
   "cell_type": "code",
   "execution_count": 11,
   "metadata": {},
   "outputs": [
    {
     "data": {
      "text/html": [
       "<div>\n",
       "<style scoped>\n",
       "    .dataframe tbody tr th:only-of-type {\n",
       "        vertical-align: middle;\n",
       "    }\n",
       "\n",
       "    .dataframe tbody tr th {\n",
       "        vertical-align: top;\n",
       "    }\n",
       "\n",
       "    .dataframe thead th {\n",
       "        text-align: right;\n",
       "    }\n",
       "</style>\n",
       "<table border=\"1\" class=\"dataframe\">\n",
       "  <thead>\n",
       "    <tr style=\"text-align: right;\">\n",
       "      <th></th>\n",
       "      <th>date</th>\n",
       "      <th>variable_short</th>\n",
       "      <th>location</th>\n",
       "    </tr>\n",
       "  </thead>\n",
       "  <tbody>\n",
       "    <tr>\n",
       "      <th>0</th>\n",
       "      <td>2017-01-03</td>\n",
       "      <td>Handel; Instandhaltung und Reparatur von Motor...</td>\n",
       "      <td>LU</td>\n",
       "    </tr>\n",
       "    <tr>\n",
       "      <th>1</th>\n",
       "      <td>2017-01-03</td>\n",
       "      <td>Verarbeitendes Gewerbe/Herstellung von Waren</td>\n",
       "      <td>SG</td>\n",
       "    </tr>\n",
       "    <tr>\n",
       "      <th>2</th>\n",
       "      <td>2017-01-06</td>\n",
       "      <td>Erbringung von freiberuflichen, wissenchaftlic...</td>\n",
       "      <td>OW</td>\n",
       "    </tr>\n",
       "    <tr>\n",
       "      <th>3</th>\n",
       "      <td>2017-01-09</td>\n",
       "      <td>Erbringung von Finanz- und Versicherungsdienst...</td>\n",
       "      <td>GE</td>\n",
       "    </tr>\n",
       "    <tr>\n",
       "      <th>4</th>\n",
       "      <td>2017-01-09</td>\n",
       "      <td>Erbringung von sonstigen wirtschaftlichen Dien...</td>\n",
       "      <td>GE</td>\n",
       "    </tr>\n",
       "  </tbody>\n",
       "</table>\n",
       "</div>"
      ],
      "text/plain": [
       "        date                                     variable_short location\n",
       "0 2017-01-03  Handel; Instandhaltung und Reparatur von Motor...       LU\n",
       "1 2017-01-03       Verarbeitendes Gewerbe/Herstellung von Waren       SG\n",
       "2 2017-01-06  Erbringung von freiberuflichen, wissenchaftlic...       OW\n",
       "3 2017-01-09  Erbringung von Finanz- und Versicherungsdienst...       GE\n",
       "4 2017-01-09  Erbringung von sonstigen wirtschaftlichen Dien...       GE"
      ]
     },
     "execution_count": 11,
     "metadata": {},
     "output_type": "execute_result"
    }
   ],
   "source": [
    "## Let's look at the data again\n",
    "dataset3.head()"
   ]
  },
  {
   "cell_type": "code",
   "execution_count": 12,
   "metadata": {},
   "outputs": [],
   "source": [
    "## Copy for further manipulation\n",
    "dataset4 = dataset3.copy()"
   ]
  },
  {
   "cell_type": "code",
   "execution_count": 13,
   "metadata": {},
   "outputs": [
    {
     "data": {
      "text/html": [
       "<div>\n",
       "<style scoped>\n",
       "    .dataframe tbody tr th:only-of-type {\n",
       "        vertical-align: middle;\n",
       "    }\n",
       "\n",
       "    .dataframe tbody tr th {\n",
       "        vertical-align: top;\n",
       "    }\n",
       "\n",
       "    .dataframe thead th {\n",
       "        text-align: right;\n",
       "    }\n",
       "</style>\n",
       "<table border=\"1\" class=\"dataframe\">\n",
       "  <thead>\n",
       "    <tr style=\"text-align: right;\">\n",
       "      <th></th>\n",
       "      <th>date</th>\n",
       "      <th>variable_short</th>\n",
       "      <th>location</th>\n",
       "      <th>year</th>\n",
       "      <th>month</th>\n",
       "      <th>day</th>\n",
       "    </tr>\n",
       "  </thead>\n",
       "  <tbody>\n",
       "    <tr>\n",
       "      <th>0</th>\n",
       "      <td>2017-01-03</td>\n",
       "      <td>Handel; Instandhaltung und Reparatur von Motor...</td>\n",
       "      <td>LU</td>\n",
       "      <td>2017</td>\n",
       "      <td>1</td>\n",
       "      <td>3</td>\n",
       "    </tr>\n",
       "    <tr>\n",
       "      <th>1</th>\n",
       "      <td>2017-01-03</td>\n",
       "      <td>Verarbeitendes Gewerbe/Herstellung von Waren</td>\n",
       "      <td>SG</td>\n",
       "      <td>2017</td>\n",
       "      <td>1</td>\n",
       "      <td>3</td>\n",
       "    </tr>\n",
       "    <tr>\n",
       "      <th>2</th>\n",
       "      <td>2017-01-06</td>\n",
       "      <td>Erbringung von freiberuflichen, wissenchaftlic...</td>\n",
       "      <td>OW</td>\n",
       "      <td>2017</td>\n",
       "      <td>1</td>\n",
       "      <td>6</td>\n",
       "    </tr>\n",
       "    <tr>\n",
       "      <th>3</th>\n",
       "      <td>2017-01-09</td>\n",
       "      <td>Erbringung von Finanz- und Versicherungsdienst...</td>\n",
       "      <td>GE</td>\n",
       "      <td>2017</td>\n",
       "      <td>1</td>\n",
       "      <td>9</td>\n",
       "    </tr>\n",
       "    <tr>\n",
       "      <th>4</th>\n",
       "      <td>2017-01-09</td>\n",
       "      <td>Erbringung von sonstigen wirtschaftlichen Dien...</td>\n",
       "      <td>GE</td>\n",
       "      <td>2017</td>\n",
       "      <td>1</td>\n",
       "      <td>9</td>\n",
       "    </tr>\n",
       "  </tbody>\n",
       "</table>\n",
       "</div>"
      ],
      "text/plain": [
       "        date                                     variable_short location  \\\n",
       "0 2017-01-03  Handel; Instandhaltung und Reparatur von Motor...       LU   \n",
       "1 2017-01-03       Verarbeitendes Gewerbe/Herstellung von Waren       SG   \n",
       "2 2017-01-06  Erbringung von freiberuflichen, wissenchaftlic...       OW   \n",
       "3 2017-01-09  Erbringung von Finanz- und Versicherungsdienst...       GE   \n",
       "4 2017-01-09  Erbringung von sonstigen wirtschaftlichen Dien...       GE   \n",
       "\n",
       "   year  month  day  \n",
       "0  2017      1    3  \n",
       "1  2017      1    3  \n",
       "2  2017      1    6  \n",
       "3  2017      1    9  \n",
       "4  2017      1    9  "
      ]
     },
     "execution_count": 13,
     "metadata": {},
     "output_type": "execute_result"
    }
   ],
   "source": [
    "## Extract year, month and day from date column and add to seperate columns\n",
    "dataset4[\"year\"] = dataset4[\"date\"].dt.year\n",
    "dataset4[\"month\"] = dataset4[\"date\"].dt.month\n",
    "dataset4[\"day\"] = dataset4[\"date\"].dt.day\n",
    "dataset4.head()"
   ]
  },
  {
   "cell_type": "code",
   "execution_count": 14,
   "metadata": {},
   "outputs": [
    {
     "data": {
      "text/html": [
       "<div>\n",
       "<style scoped>\n",
       "    .dataframe tbody tr th:only-of-type {\n",
       "        vertical-align: middle;\n",
       "    }\n",
       "\n",
       "    .dataframe tbody tr th {\n",
       "        vertical-align: top;\n",
       "    }\n",
       "\n",
       "    .dataframe thead th {\n",
       "        text-align: right;\n",
       "    }\n",
       "</style>\n",
       "<table border=\"1\" class=\"dataframe\">\n",
       "  <thead>\n",
       "    <tr style=\"text-align: right;\">\n",
       "      <th></th>\n",
       "      <th>date</th>\n",
       "      <th>industry</th>\n",
       "      <th>canton</th>\n",
       "      <th>year</th>\n",
       "      <th>month</th>\n",
       "      <th>day</th>\n",
       "    </tr>\n",
       "  </thead>\n",
       "  <tbody>\n",
       "    <tr>\n",
       "      <th>18933</th>\n",
       "      <td>2021-10-04</td>\n",
       "      <td>Baugewerbe/Bau</td>\n",
       "      <td>TI</td>\n",
       "      <td>2021</td>\n",
       "      <td>10</td>\n",
       "      <td>4</td>\n",
       "    </tr>\n",
       "    <tr>\n",
       "      <th>18934</th>\n",
       "      <td>2021-10-04</td>\n",
       "      <td>Gastgewerbe/Beherbergung und Gastronomie</td>\n",
       "      <td>VS</td>\n",
       "      <td>2021</td>\n",
       "      <td>10</td>\n",
       "      <td>4</td>\n",
       "    </tr>\n",
       "    <tr>\n",
       "      <th>18935</th>\n",
       "      <td>2021-10-04</td>\n",
       "      <td>Baugewerbe/Bau</td>\n",
       "      <td>ZH</td>\n",
       "      <td>2021</td>\n",
       "      <td>10</td>\n",
       "      <td>4</td>\n",
       "    </tr>\n",
       "    <tr>\n",
       "      <th>18936</th>\n",
       "      <td>2021-10-04</td>\n",
       "      <td>Erbringung von freiberuflichen, wissenchaftlic...</td>\n",
       "      <td>ZH</td>\n",
       "      <td>2021</td>\n",
       "      <td>10</td>\n",
       "      <td>4</td>\n",
       "    </tr>\n",
       "    <tr>\n",
       "      <th>18937</th>\n",
       "      <td>2021-10-04</td>\n",
       "      <td>Erbringung von sonstigen wirtschaftlichen Dien...</td>\n",
       "      <td>ZH</td>\n",
       "      <td>2021</td>\n",
       "      <td>10</td>\n",
       "      <td>4</td>\n",
       "    </tr>\n",
       "  </tbody>\n",
       "</table>\n",
       "</div>"
      ],
      "text/plain": [
       "            date                                           industry canton  \\\n",
       "18933 2021-10-04                                     Baugewerbe/Bau     TI   \n",
       "18934 2021-10-04           Gastgewerbe/Beherbergung und Gastronomie     VS   \n",
       "18935 2021-10-04                                     Baugewerbe/Bau     ZH   \n",
       "18936 2021-10-04  Erbringung von freiberuflichen, wissenchaftlic...     ZH   \n",
       "18937 2021-10-04  Erbringung von sonstigen wirtschaftlichen Dien...     ZH   \n",
       "\n",
       "       year  month  day  \n",
       "18933  2021     10    4  \n",
       "18934  2021     10    4  \n",
       "18935  2021     10    4  \n",
       "18936  2021     10    4  \n",
       "18937  2021     10    4  "
      ]
     },
     "execution_count": 14,
     "metadata": {},
     "output_type": "execute_result"
    }
   ],
   "source": [
    "## Rename some columns\n",
    "dataset4.rename(\n",
    "    mapper = {\n",
    "    \"variable_short\" : \"industry\",\n",
    "    \"location\" : \"canton\" \n",
    "    },\n",
    "    axis = \"columns\",\n",
    "    inplace = True)\n",
    "dataset4.tail()"
   ]
  },
  {
   "cell_type": "code",
   "execution_count": 15,
   "metadata": {},
   "outputs": [
    {
     "data": {
      "text/plain": [
       "industry                                     year\n",
       "Baugewerbe/Bau                               2017    851\n",
       "                                             2018    952\n",
       "                                             2019    964\n",
       "                                             2020    785\n",
       "                                             2021    602\n",
       "Bergbau und Gewinnung von Steinen und Erden  2017      3\n",
       "                                             2018      1\n",
       "                                             2019      1\n",
       "dtype: int64"
      ]
     },
     "execution_count": 15,
     "metadata": {},
     "output_type": "execute_result"
    }
   ],
   "source": [
    "## Group by industry and year\n",
    "grouped_by_noga = dataset4.groupby(by = [\"industry\", \"year\"])\n",
    "grouped_by_noga_df = grouped_by_noga.size()\n",
    "grouped_by_noga_df.head(8)"
   ]
  },
  {
   "cell_type": "code",
   "execution_count": 32,
   "metadata": {},
   "outputs": [],
   "source": [
    "## Calculate the linear extrapolator to extrapolate 2021\n",
    "last_day = dataset4[\"date\"].max()\n",
    "reference_date = dt.datetime(2021,1,1)\n",
    "days_passed = (last_day - reference_date).days\n",
    "extrapolator = 365 / days_passed\n",
    "last_day_str = last_day.strftime(\"%d.%m\")"
   ]
  },
  {
   "cell_type": "code",
   "execution_count": 33,
   "metadata": {},
   "outputs": [],
   "source": [
    "## Create the function to plot comparisons for industries and years\n",
    "%matplotlib inline\n",
    "def plot_chart(industry):\n",
    "    fig, ax = plt.subplots(figsize = (10,6))\n",
    "    fig.suptitle(f\"Anzahl Konkurseröffnungen: {industry}\", verticalalignment = \"bottom\", y = 0.9)\n",
    "    plt.tick_params(axis = \"both\", left = False, bottom = False, labelleft = False, labelsize = \"large\")\n",
    "    ax.spines['top'].set_visible(False)\n",
    "    ax.spines['right'].set_visible(False)\n",
    "    ax.spines['bottom'].set_visible(False)\n",
    "    ax.spines['left'].set_visible(False)\n",
    "    ax.set_xticks(range(1,7))\n",
    "    ax.set_xticklabels([2017,2018,2019,2020,f\"2021\\nBis {last_day_str}\", \"2021\\nExtrapoliert\"])\n",
    "    bar1 = ax.bar(x = range(1,6), height = grouped_by_noga_df[[industry]],width = 0.6)\n",
    "    bar2 = ax.bar(x = 6, height = round(grouped_by_noga_df.loc[industry].loc[2021] * extrapolator), \n",
    "                  width = 0.6, color = \"green\")\n",
    "    ax.bar_label(bar1, label_type = \"center\", fontsize = \"large\", color = \"white\")\n",
    "    ax.bar_label(bar2, label_type = \"center\", fontsize = \"large\", color = \"white\")\n",
    "    plt.show()"
   ]
  },
  {
   "cell_type": "code",
   "execution_count": 34,
   "metadata": {},
   "outputs": [
    {
     "data": {
      "image/png": "[encoded data removed]",
      "text/plain": [
       "<Figure size 720x432 with 1 Axes>"
      ]
     },
     "metadata": {
      "needs_background": "light"
     },
     "output_type": "display_data"
    }
   ],
   "source": [
    "plot_chart(\"Baugewerbe/Bau\")"
   ]
  },
  {
   "cell_type": "code",
   "execution_count": 35,
   "metadata": {},
   "outputs": [
    {
     "data": {
      "image/png": "[encoded data removed]",
      "text/plain": [
       "<Figure size 720x432 with 1 Axes>"
      ]
     },
     "metadata": {
      "needs_background": "light"
     },
     "output_type": "display_data"
    }
   ],
   "source": [
    "plot_chart(\"Gastgewerbe/Beherbergung und Gastronomie\")"
   ]
  },
  {
   "cell_type": "code",
   "execution_count": 36,
   "metadata": {},
   "outputs": [
    {
     "data": {
      "image/png": "[encoded data removed]",
      "text/plain": [
       "<Figure size 720x432 with 1 Axes>"
      ]
     },
     "metadata": {
      "needs_background": "light"
     },
     "output_type": "display_data"
    }
   ],
   "source": [
    "plot_chart(\"Information und Kommunikation\")"
   ]
  },
  {
   "cell_type": "code",
   "execution_count": 39,
   "metadata": {},
   "outputs": [
    {
     "data": {
      "image/png": "[encoded data removed]",
      "text/plain": [
       "<Figure size 720x432 with 1 Axes>"
      ]
     },
     "metadata": {
      "needs_background": "light"
     },
     "output_type": "display_data"
    }
   ],
   "source": [
    "plot_chart(\"Verarbeitendes Gewerbe/Herstellung von Waren\")"
   ]
  },
  {
   "cell_type": "code",
   "execution_count": 40,
   "metadata": {},
   "outputs": [
    {
     "data": {
      "image/png": "[encoded data removed]",
      "text/plain": [
       "<Figure size 720x432 with 1 Axes>"
      ]
     },
     "metadata": {
      "needs_background": "light"
     },
     "output_type": "display_data"
    }
   ],
   "source": [
    "plot_chart(\"Erbringung von Finanz- und Versicherungsdienstleistungen\")"
   ]
  },
  {
   "cell_type": "code",
   "execution_count": 38,
   "metadata": {},
   "outputs": [
    {
     "data": {
      "image/png": "[encoded data removed]",
      "text/plain": [
       "<Figure size 720x432 with 1 Axes>"
      ]
     },
     "metadata": {
      "needs_background": "light"
     },
     "output_type": "display_data"
    }
   ],
   "source": [
    "plot_chart(\"Kunst, Unterhaltung und Erholung\")"
   ]
  }
 ],
 "metadata": {
  "kernelspec": {
   "display_name": "Python 3",
   "language": "python",
   "name": "python3"
  },
  "language_info": {
   "codemirror_mode": {
    "name": "ipython",
    "version": 3
   },
   "file_extension": ".py",
   "mimetype": "text/x-python",
   "name": "python",
   "nbconvert_exporter": "python",
   "pygments_lexer": "ipython3",
   "version": "3.8.5"
  }
 },
 "nbformat": 4,
 "nbformat_minor": 4
}
